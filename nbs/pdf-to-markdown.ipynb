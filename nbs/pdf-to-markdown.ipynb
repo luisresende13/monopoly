{
 "cells": [
  {
   "cell_type": "markdown",
   "id": "d580618a-0ab5-42ce-a86f-8ff3409398f4",
   "metadata": {},
   "source": [
    "# Convert PDF to Markdown"
   ]
  },
  {
   "cell_type": "markdown",
   "id": "0777262d-d3b2-42c8-b5ca-1b8d7ccc9fee",
   "metadata": {},
   "source": [
    "### List pdf files"
   ]
  },
  {
   "cell_type": "code",
   "execution_count": 17,
   "id": "5a8b1012-3780-490e-89e3-18535e955ce3",
   "metadata": {},
   "outputs": [
    {
     "data": {
      "text/plain": [
       "['rules_monopolypedia.pdf',\n",
       " 'rules_fgbradleys.pdf',\n",
       " 'rules_official-game-rules.pdf',\n",
       " 'rules_netsuite.pdf',\n",
       " 'rules_wikibooks.pdf']"
      ]
     },
     "execution_count": 17,
     "metadata": {},
     "output_type": "execute_result"
    }
   ],
   "source": [
    "rules_pdf_folder = '/home/luisresende/work/projects/monopoly/context/rules/pdf'\n",
    "rules_markdown_folder = '/home/luisresende/work/projects/monopoly/context/rules/markdown'\n",
    "\n",
    "files = os.listdir(rules_pdf_folder)\n",
    "\n",
    "files"
   ]
  },
  {
   "cell_type": "markdown",
   "id": "e9ed279a-92f9-4c66-b2a7-95a1799e017b",
   "metadata": {},
   "source": [
    "### Convert PDF to text with `markitdown`"
   ]
  },
  {
   "cell_type": "code",
   "execution_count": 11,
   "id": "dec400da-cfd8-412a-908d-a01d9d4ec596",
   "metadata": {},
   "outputs": [],
   "source": [
    "# Source: https://github.com/microsoft/markitdown\n",
    "# !pip install 'markitdown[pdf, docx, pptx]'\n",
    "# !pip install 'markitdown[pdf]' # pdf plugin only\n",
    "\n",
    "for i in range(len(files)):\n",
    "    input_path = f'{rules_pdf_folder}/{files[i]}'\n",
    "    output_path = f'{rules_markdown_folder}/markitdown/{files[i].replace(\".pdf\", \".md\")}'\n",
    "    \n",
    "    !markitdown {input_path} > {output_path}"
   ]
  }
 ],
 "metadata": {
  "kernelspec": {
   "display_name": "Python 3 (ipykernel)",
   "language": "python",
   "name": "python3"
  },
  "language_info": {
   "codemirror_mode": {
    "name": "ipython",
    "version": 3
   },
   "file_extension": ".py",
   "mimetype": "text/x-python",
   "name": "python",
   "nbconvert_exporter": "python",
   "pygments_lexer": "ipython3",
   "version": "3.10.18"
  }
 },
 "nbformat": 4,
 "nbformat_minor": 5
}
