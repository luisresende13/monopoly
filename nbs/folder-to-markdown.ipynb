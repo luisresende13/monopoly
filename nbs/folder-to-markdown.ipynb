{
 "cells": [
  {
   "cell_type": "markdown",
   "id": "08bc56a4-8544-4f73-9759-d9b66343c445",
   "metadata": {},
   "source": [
    "### Install git2md"
   ]
  },
  {
   "cell_type": "code",
   "execution_count": 3,
   "id": "f7bb88b8-a159-4f68-891b-31e76c59aa65",
   "metadata": {},
   "outputs": [
    {
     "name": "stdout",
     "output_type": "stream",
     "text": [
      "Collecting git2md\n",
      "  Downloading git2md-1.1.7-py3-none-any.whl (13 kB)\n",
      "Collecting pathspec\n",
      "  Downloading pathspec-0.12.1-py3-none-any.whl (31 kB)\n",
      "Installing collected packages: pathspec, git2md\n",
      "Successfully installed git2md-1.1.7 pathspec-0.12.1\n",
      "\n",
      "\u001b[1m[\u001b[0m\u001b[34;49mnotice\u001b[0m\u001b[1;39;49m]\u001b[0m\u001b[39;49m A new release of pip is available: \u001b[0m\u001b[31;49m23.0.1\u001b[0m\u001b[39;49m -> \u001b[0m\u001b[32;49m25.0.1\u001b[0m\n",
      "\u001b[1m[\u001b[0m\u001b[34;49mnotice\u001b[0m\u001b[1;39;49m]\u001b[0m\u001b[39;49m To update, run: \u001b[0m\u001b[32;49mpip install --upgrade pip\u001b[0m\n"
     ]
    }
   ],
   "source": [
    "# !pip install git2md"
   ]
  },
  {
   "cell_type": "markdown",
   "id": "ebe1ebaa-121c-4347-aaed-fcbfd18ee6df",
   "metadata": {},
   "source": [
    "### Convert rules to single markdown file"
   ]
  },
  {
   "cell_type": "code",
   "execution_count": 3,
   "id": "71e916d4-63eb-4362-ac93-8e6010ac18e1",
   "metadata": {},
   "outputs": [
    {
     "name": "stdout",
     "output_type": "stream",
     "text": [
      "INFO:git2md:Output written to /home/luisresende/work/projects/monopoly/assets/rules/combined/with-markitdown.md\n"
     ]
    }
   ],
   "source": [
    "!git2md \\\n",
    "  \"/home/luisresende/work/projects/monopoly/assets/rules/markdown/markitdown\" \\\n",
    "  -o \"/home/luisresende/work/projects/monopoly/assets/rules/combined/with-markitdown.md\""
   ]
  },
  {
   "cell_type": "markdown",
   "id": "586e35df-db60-4071-952d-8a94b4911221",
   "metadata": {},
   "source": [
    "### Convert PPLay to single markdown file"
   ]
  },
  {
   "cell_type": "code",
   "execution_count": 4,
   "id": "d72f133c-1516-4175-b27d-06ac3a618d09",
   "metadata": {},
   "outputs": [
    {
     "name": "stdout",
     "output_type": "stream",
     "text": [
      "INFO:git2md:Output written to /home/luisresende/work/projects/monopoly/pplay/PPlay.md\n"
     ]
    }
   ],
   "source": [
    "!git2md \\\n",
    "  \"/home/luisresende/work/projects/monopoly/pplay/PPlay\" \\\n",
    "  -o \"/home/luisresende/work/projects/monopoly/pplay/PPlay.md\""
   ]
  },
  {
   "cell_type": "markdown",
   "id": "dbbe49bf-d71c-4c38-8d1b-dcb1b3c0dd24",
   "metadata": {},
   "source": [
    "### Convert Monopoly Game to single markdown file"
   ]
  },
  {
   "cell_type": "code",
   "execution_count": 5,
   "id": "785b94d4-992d-4483-a5ee-f8a61939a300",
   "metadata": {},
   "outputs": [
    {
     "name": "stdout",
     "output_type": "stream",
     "text": [
      "INFO:git2md:Output written to /home/luisresende/work/projects/monopoly/src.md\n"
     ]
    }
   ],
   "source": [
    "!git2md \\\n",
    "  \"/home/luisresende/work/projects/monopoly/src\" --ignore \"assets\" \"pplay\" \"__pycache__\" \\\n",
    "  -o \"/home/luisresende/work/projects/monopoly/src.md\""
   ]
  }
 ],
 "metadata": {
  "kernelspec": {
   "display_name": "Python 3 (ipykernel)",
   "language": "python",
   "name": "python3"
  },
  "language_info": {
   "codemirror_mode": {
    "name": "ipython",
    "version": 3
   },
   "file_extension": ".py",
   "mimetype": "text/x-python",
   "name": "python",
   "nbconvert_exporter": "python",
   "pygments_lexer": "ipython3",
   "version": "3.10.18"
  }
 },
 "nbformat": 4,
 "nbformat_minor": 5
}
